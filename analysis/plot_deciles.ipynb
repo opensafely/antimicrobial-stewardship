{
 "cells": [
  {
   "cell_type": "markdown",
   "source": [
    "# Plot decile charts of each measure for each group"
   ],
   "metadata": {}
  },
  {
   "cell_type": "code",
   "execution_count": null,
   "source": [
    "from  ebmdatalab import charts\n",
    "import pandas as pd\n",
    "from os import listdir,path,environ\n",
    "from measures import measures_kwargs\n",
    "import matplotlib.pyplot as plt\n",
    "import matplotlib.gridspec as gridspec\n",
    "import itertools"
   ],
   "outputs": [],
   "metadata": {}
  },
  {
   "cell_type": "code",
   "execution_count": null,
   "source": [
    "#Load input files\n",
    "first = True\n",
    "for f,d in [(path.join('..','output','measures',f),f.replace('input_','').replace('.csv.gz','')) for f in listdir(path.join('..','output','measures')) if f.startswith('input')]:\n",
    "    if first:\n",
    "        df = pd.read_csv(f).assign(date=d)\n",
    "        first=False\n",
    "    else:\n",
    "        df = pd.concat([df,pd.read_csv(f).assign(date=d)])\n",
    "df.date = df.date= pd.to_datetime(df.date)"
   ],
   "outputs": [],
   "metadata": {}
  },
  {
   "cell_type": "code",
   "execution_count": null,
   "source": [
    "#match and count infection and antibiotic prescription dates\n",
    "infection_antibiotic_measures = ['infection','antibiotic_prescription']\n",
    "infection_antibiotic_cols = {}\n",
    "for a,b in itertools.product(infection_antibiotic_measures,['date','code']):\n",
    "    infection_antibiotic_cols[(a,b)] = sorted([c for c in df.columns if c.startswith(f'{a}_{b}_')])\n",
    "\n",
    "date_cols = sorted([v for k,v in infection_antibiotic_cols.items() if k[1]=='date'])\n",
    "for a_col in date_cols[0]:\n",
    "    for i_col in date_cols[1]:\n",
    "        df[f'{a_col}_match'] = df.apply(lambda x: 1 if (f'{a_col}_match' in df.columns and x[f'{a_col}_match']==1) or x[f'{a_col}']==x[f'{i_col}'] else 0,axis=1)\n",
    "        df[f'{i_col}_match'] = df.apply(lambda x: 1 if (f'{i_col}_match' in df.columns and x[f'{i_col}_match']==1) or x[f'{a_col}']==x[f'{i_col}'] else 0,axis=1)\n",
    "\n",
    "for x in infection_antibiotic_measures:\n",
    "    df[f'{x}_match_count'] = df[[c for c in df.columns if c.endswith('_match') and c.startswith(x)]].aggregate(sum,axis=1)"
   ],
   "outputs": [],
   "metadata": {}
  },
  {
   "cell_type": "code",
   "execution_count": null,
   "source": [
    "#Check pivot n is adequate\n",
    "pivot_n = max([int(a.split('_')[-1]) for a in list(itertools.chain(*[v for _,v in infection_antibiotic_cols.items()]))])\n",
    "print(f'n for pivot operations: {pivot_n}')\n",
    "print('Max record counts for pivoted columns:')\n",
    "print(df[[m + 's' for m in infection_antibiotic_measures]].max())"
   ],
   "outputs": [],
   "metadata": {}
  },
  {
   "cell_type": "code",
   "execution_count": null,
   "source": [
    "def plot_decile_group(df, group, measure):\n",
    "    group = None if group==\"practice\" else group\n",
    "    plot_groups = [\"practice\", group, \"date\"] if group else [\"practice\", \"date\"]\n",
    "    df_to_plot = (\n",
    "        df.groupby(plot_groups)[[measure[\"numerator\"], measure[\"denominator\"]]]\n",
    "        .sum()\n",
    "        .reset_index()\n",
    "    )\n",
    "    df_to_plot[measure[\"id\"]] = df_to_plot.apply(\n",
    "        lambda x: x[measure[\"numerator\"]] / x[measure[\"denominator\"]]\n",
    "        if x[measure[\"denominator\"]] > 0\n",
    "        else 0,\n",
    "        axis=1,\n",
    "    )\n",
    "\n",
    "    if \"OPENSAFELY_BACKEND\" not in environ or environ[\"OPENSAFELY_BACKEND\"] == \"expectations\":\n",
    "        df_to_plot[measure[\"id\"]] = df_to_plot[measure[\"id\"]].fillna(0)\n",
    "        df_to_plot[measure[\"id\"]] = df_to_plot.apply(\n",
    "            lambda x: x[measure[\"id\"]]\n",
    "            if x[measure[\"id\"]] <= 1\n",
    "            else 1 / x[measure[\"id\"]],\n",
    "            axis=1,\n",
    "        )\n",
    "    if group:\n",
    "        group_values = df_to_plot[group].drop_duplicates()\n",
    "        n_groups = len(group_values)\n",
    "    else:\n",
    "        n_groups = 1\n",
    "    fig = plt.figure(figsize=(12, 8 * n_groups))\n",
    "    fig.autofmt_xdate()\n",
    "    layout = gridspec.GridSpec(n_groups, 1, figure=fig)\n",
    "    if group:\n",
    "        for groupval, lax in zip(group_values, layout):\n",
    "            ax = plt.subplot(lax)\n",
    "            title = (\n",
    "                f'{measure[\"id\"].replace(\"_\",\" \").title()}'\n",
    "                + f\" - {group.title()}:{groupval}\"\n",
    "            )\n",
    "            charts.deciles_chart(\n",
    "                df=df_to_plot[df_to_plot[group] == groupval],\n",
    "                period_column=\"date\",\n",
    "                column=measure[\"id\"],\n",
    "                title=title,\n",
    "                ax=ax,\n",
    "            )\n",
    "    else:\n",
    "        ax = plt.subplot(layout[0])\n",
    "        title = f'{measure[\"id\"].replace(\"_\",\" \").title()}'\n",
    "        charts.deciles_chart(\n",
    "            df=df_to_plot,\n",
    "            period_column=\"date\",\n",
    "            column=measure[\"id\"],\n",
    "            title=title,\n",
    "            ax=ax,\n",
    "        )\n",
    "    return fig"
   ],
   "outputs": [],
   "metadata": {}
  },
  {
   "cell_type": "code",
   "execution_count": null,
   "source": [
    "plt.ioff()\n",
    "plt.rcParams.update({'figure.max_open_warning': 0})\n",
    "for measure in measures_kwargs:\n",
    "    df[measure[\"id\"]] = df[measure[\"numerator\"]] / df[measure[\"denominator\"]]\n",
    "    fig = plot_decile_group(df=df,group=None,measure=measure)\n",
    "    plt.show()\n",
    "    plt.close(fig)\n",
    "    for group in measure[\"group_by\"]:\n",
    "        plot_decile_group(df=df,group=group,measure=measure)\n",
    "        plt.show()\n",
    "        plt.close(fig)\n",
    "        "
   ],
   "outputs": [],
   "metadata": {}
  }
 ],
 "metadata": {
  "orig_nbformat": 4,
  "language_info": {
   "name": "python",
   "version": "3.9.5",
   "mimetype": "text/x-python",
   "codemirror_mode": {
    "name": "ipython",
    "version": 3
   },
   "pygments_lexer": "ipython3",
   "nbconvert_exporter": "python",
   "file_extension": ".py"
  },
  "kernelspec": {
   "name": "python3",
   "display_name": "Python 3.9.5 64-bit ('opensafely': conda)"
  },
  "interpreter": {
   "hash": "11ed7fed7e487618fd7c98b006316e299d100c2ce57103853c1eb8bbdd43197e"
  }
 },
 "nbformat": 4,
 "nbformat_minor": 2
}
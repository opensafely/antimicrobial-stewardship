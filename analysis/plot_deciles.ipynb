{
 "cells": [
  {
   "cell_type": "markdown",
   "source": [
    "# Plot decile charts of each measure for each group"
   ],
   "metadata": {}
  },
  {
   "cell_type": "code",
   "execution_count": null,
   "source": [
    "from  ebmdatalab import charts\n",
    "import pandas as pd\n",
    "from os import listdir,path,environ\n",
    "from measures import measures_kwargs,groups\n",
    "import matplotlib.pyplot as plt\n",
    "import matplotlib.gridspec as gridspec"
   ],
   "outputs": [],
   "metadata": {}
  },
  {
   "cell_type": "code",
   "execution_count": null,
   "source": [
    "first = True\n",
    "for f,d in [(path.join('..','output','measures',f),f.replace('input_','').replace('.csv','')) for f in listdir(path.join('..','output','measures')) if f.startswith('input')]:\n",
    "    if first:\n",
    "        df = pd.read_csv(f).assign(date=d)\n",
    "        first=False\n",
    "    else:\n",
    "        df = pd.concat([df,pd.read_csv(f).assign(date=d)])\n",
    "df.date = df.date= pd.to_datetime(df.date)"
   ],
   "outputs": [],
   "metadata": {}
  },
  {
   "cell_type": "code",
   "execution_count": null,
   "source": [
    "if \"practice\" in groups:\n",
    "    groups.remove(\"practice\")\n",
    "plots = []\n",
    "for measure in measures_kwargs:\n",
    "    df[measure[\"id\"]] = df[measure[\"numerator\"]] / df[measure[\"denominator\"]]\n",
    "    for group in groups:\n",
    "        df_to_plot = (\n",
    "            df.groupby([\"practice\", group, \"date\"])\n",
    "            .sum()[[measure[\"numerator\"], measure[\"denominator\"]]]\n",
    "            .reset_index()\n",
    "        )\n",
    "        df_to_plot[measure[\"id\"]] = df_to_plot.apply(\n",
    "            lambda x: x[measure[\"numerator\"]] / x[measure[\"denominator\"]]\n",
    "            if x[measure[\"denominator\"]] > 0\n",
    "            else 0,\n",
    "            axis=1,\n",
    "        )\n",
    "\n",
    "        if environ[\"OPENSAFELY_BACKEND\"] == \"expectations\":\n",
    "            df_to_plot[measure[\"id\"]] = df_to_plot[measure[\"id\"]].fillna(0)\n",
    "            df_to_plot[measure[\"id\"]] = df_to_plot.apply(\n",
    "                lambda x: x[measure[\"id\"]]\n",
    "                if x[measure[\"id\"]] <= 1\n",
    "                else 1 / x[measure[\"id\"]],\n",
    "                axis=1,\n",
    "            )\n",
    "\n",
    "        group_values = df_to_plot[group].drop_duplicates()\n",
    "        n_groups = len(group_values)\n",
    "        fig = plt.figure(figsize=(12, 8 * n_groups))\n",
    "        fig.autofmt_xdate()\n",
    "        layout = gridspec.GridSpec(n_groups, 1, figure=fig)\n",
    "        for groupval, lax in zip(group_values, layout):\n",
    "            ax = plt.subplot(lax)\n",
    "            charts.deciles_chart(\n",
    "                df_to_plot[df_to_plot[group] == groupval],\n",
    "                \"date\",\n",
    "                measure[\"id\"],\n",
    "                f'{measure[\"id\"].replace(\"_\",\" \").title()} - {group.title()}:{groupval}',\n",
    "                ax=ax,\n",
    "            )\n",
    "        plots.append(fig)\n"
   ],
   "outputs": [],
   "metadata": {}
  }
 ],
 "metadata": {
  "orig_nbformat": 4,
  "language_info": {
   "name": "python",
   "version": "3.9.5",
   "mimetype": "text/x-python",
   "codemirror_mode": {
    "name": "ipython",
    "version": 3
   },
   "pygments_lexer": "ipython3",
   "nbconvert_exporter": "python",
   "file_extension": ".py"
  },
  "kernelspec": {
   "name": "python3",
   "display_name": "Python 3.9.5 64-bit ('opensafely': conda)"
  },
  "interpreter": {
   "hash": "11ed7fed7e487618fd7c98b006316e299d100c2ce57103853c1eb8bbdd43197e"
  }
 },
 "nbformat": 4,
 "nbformat_minor": 2
}